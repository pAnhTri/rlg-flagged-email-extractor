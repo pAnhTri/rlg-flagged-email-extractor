{
 "cells": [
  {
   "cell_type": "code",
   "execution_count": 96,
   "id": "da8de6a2",
   "metadata": {},
   "outputs": [],
   "source": [
    "import win32com.client\n",
    "from datetime import date\n",
    "import calendar\n",
    "import os"
   ]
  },
  {
   "cell_type": "code",
   "execution_count": 97,
   "id": "204526fc",
   "metadata": {},
   "outputs": [],
   "source": [
    "outlook = win32com.client.Dispatch(\"Outlook.Application\").GetNamespace(\"MAPI\")\n",
    "\n",
    "main_folder = outlook.Folders(\"anhtri@radlawgroup.com\")\n",
    "\n",
    "inbox = main_folder.Folders(\"Inbox\")\n",
    "\n",
    "emails = inbox.Items\n"
   ]
  },
  {
   "cell_type": "code",
   "execution_count": 98,
   "id": "13a90492",
   "metadata": {},
   "outputs": [
    {
     "name": "stdout",
     "output_type": "stream",
     "text": [
      "26\n"
     ]
    }
   ],
   "source": [
    "flagged_emails = []\n",
    "\n",
    "for email in emails:\n",
    "    try:\n",
    "        if email.FlagStatus == 2:\n",
    "            flagged_emails.append(email)\n",
    "    except Exception as e:\n",
    "        continue\n",
    "\n",
    "print(len(flagged_emails))\n"
   ]
  },
  {
   "cell_type": "code",
   "execution_count": 99,
   "id": "eaea558b",
   "metadata": {},
   "outputs": [],
   "source": [
    "start_of_month = date.today().replace(day=1)\n",
    "_, num_days = calendar.monthrange(date.today().year, date.today().month)\n",
    "end_of_month = date.today().replace(day=num_days)\n",
    "\n",
    "flagged_emails_in_month = []\n",
    "\n",
    "for email in flagged_emails:\n",
    "    received_date = email.ReceivedTime.date()\n",
    "    if received_date >= start_of_month and received_date <= end_of_month:\n",
    "        flagged_emails_in_month.append(email)\n"
   ]
  },
  {
   "cell_type": "code",
   "execution_count": null,
   "id": "da30e193",
   "metadata": {},
   "outputs": [
    {
     "name": "stdout",
     "output_type": "stream",
     "text": [
      "Folder Flagged Emails 08-01-25 - 08-31-25 already exists\n",
      "Outlook Data File\n"
     ]
    }
   ],
   "source": [
    "\n",
    "flagged_emails_folder_name = f\"Flagged Emails {start_of_month.strftime(\"%m-%d-%y\")} - {end_of_month.strftime(\"%m-%d-%y\")}\"\n",
    "\n",
    "billing_path = os.path.join(os.path.expanduser(\"~\"), \"Desktop\", \"Billing\", flagged_emails_folder_name) + \".pst\"\n",
    "\n",
    "# Only create the folder if it doesn't exist\n",
    "if not os.path.exists(billing_path):\n",
    "    new_pst = outlook.AddStore(billing_path)\n",
    "else:\n",
    "    print(f\"Folder {flagged_emails_folder_name} already exists\")\n",
    "\n",
    "# Get the store with the path\n",
    "flagged_emails_store = None\n",
    "\n",
    "for store in outlook.Stores:\n",
    "    if (store.FilePath == billing_path):\n",
    "        flagged_emails_store = store\n",
    "\n",
    "flagged_emails_root = flagged_emails_store.GetRootFolder()\n",
    "\n"
   ]
  },
  {
   "cell_type": "code",
   "execution_count": 108,
   "id": "4d20ff7d",
   "metadata": {},
   "outputs": [
    {
     "name": "stdout",
     "output_type": "stream",
     "text": [
      "Skipping FW: New Cases: Accident.com: Already exists!\n",
      "Skipping Marriage of Heidari - Case No. 20FL001880 Inbox Mabel Lin: Already exists!\n",
      "Skipping FW: Closing the loop: Already exists!\n",
      "Skipping RE: Medical Records Summarization-  Only $ 0.16 per page  - FAST TURNAROUND TIME: Already exists!\n",
      "Skipping Motorcycle Accident Webpage attached: Already exists!\n",
      "Skipping FW: Billboards around California: Already exists!\n",
      "Skipping RE: Two latest blog posts attached.  : Already exists!\n",
      "Skipping Medical records summary: Already exists!\n",
      "Skipping Santa Clara log in: Already exists!\n",
      "Skipping RE: Taghavi v. Khoshkbari, Case No.: 23FL000295, Santa Clara County: Already exists!\n",
      "Skipping Marriage of Heidari and Setayesh - Ex Parte RFO: Already exists!\n",
      "Skipping Marriage of Heidari and Setayesh - Letter of Today's Date: Already exists!\n",
      "Skipping RLG Billing Test: Already exists!\n",
      "Skipping FW: Rad v. Mojabi, Case No.: HG17865400, Alameda County, Petitioner - Civil Harassment (June 12, 2025 Hearing at 9:00 a.m. on Petitioner's Request to Renew CHRO): Already exists!\n",
      "Skipping FW: Peyman, redeem your free 1:1 meeting and 750 USD ad credit: Already exists!\n",
      "Skipping FW: Partner with Our Expert Pain Management Team: Already exists!\n",
      "Skipping Anh T Phan: Already exists!\n",
      "Skipping Bimonthly workplace bites : Already exists!\n",
      "Skipping Web Content: Dog Bite web page and Strict Liability blog: Already exists!\n",
      "Skipping FW: We Send Real Clients, Not Just Leads - California Serious PI Cases: Already exists!\n",
      "Skipping RE: ADR Application for Peyman H. Rad, Esq.: Already exists!\n",
      "Skipping RE: Action Items: Already exists!\n",
      "Skipping Re: Personal Injury page: Already exists!\n",
      "Skipping FW: Foremost Insurance Company Grand Rapids, Michigan 5024799605-1-0 Xiongfei Jiang: Already exists!\n",
      "Skipping RE: ADR Application for Peyman H. Rad, Esq. : Already exists!\n",
      "Skipping Re: FW: A Wix Website is Being Transferred to You: Already exists!\n",
      "Copied 0 emails to Outlook Data File\n"
     ]
    }
   ],
   "source": [
    "# Use a set of emails to avoid duplicates\n",
    "existing_emails_in_store = set()\n",
    "\n",
    "for email in flagged_emails_root.Items:\n",
    "    existing_emails_in_store.add(email.Subject)\n",
    "\n",
    "copy_count = 0\n",
    "\n",
    "for flagged_email in flagged_emails:\n",
    "    if flagged_email.Subject in existing_emails_in_store:\n",
    "        print(f\"Skipping {flagged_email.Subject}: Already exists!\")\n",
    "        continue\n",
    "\n",
    "    print(f\"Copying {flagged_email.Subject} to {flagged_emails_root.Name}\")\n",
    "    flagged_email.Copy().Move(flagged_emails_root)\n",
    "    copy_count += 1\n",
    "\n",
    "print(f\"Copied {copy_count} emails to {flagged_emails_root.Name}\")\n",
    "\n",
    "\n",
    "\n",
    "\n"
   ]
  },
  {
   "cell_type": "markdown",
   "id": "f1d18486",
   "metadata": {},
   "source": []
  }
 ],
 "metadata": {
  "kernelspec": {
   "display_name": ".venv",
   "language": "python",
   "name": "python3"
  },
  "language_info": {
   "codemirror_mode": {
    "name": "ipython",
    "version": 3
   },
   "file_extension": ".py",
   "mimetype": "text/x-python",
   "name": "python",
   "nbconvert_exporter": "python",
   "pygments_lexer": "ipython3",
   "version": "3.13.3"
  }
 },
 "nbformat": 4,
 "nbformat_minor": 5
}
